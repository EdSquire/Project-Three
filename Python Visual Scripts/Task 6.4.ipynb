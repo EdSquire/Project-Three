{
 "cells": [
  {
   "cell_type": "markdown",
   "id": "158ddd95",
   "metadata": {},
   "source": [
    " Task 6.4 Regression"
   ]
  },
  {
   "cell_type": "markdown",
   "id": "923596b0",
   "metadata": {},
   "source": [
    "# This script answers the following questions:\n",
    "Install the scikit-learn library.\n",
    "Import the libraries you need into a new notebook, including any necessary modules from scikit-learn.\n",
    "Clean your data so that it’s ready for analysis.\n",
    "Explore your data visually (e.g., by way of a scatterplot), looking for variables whose relationship you’d like to test.\n",
    "State your hypothesis in a markdown cell within your Jupyter notebook.\n",
    "Reshape the variables into NumPy arrays, with X being the independent variable and y being the dependent variable.\n",
    "Split the data into two sets: a training set and a test set.\n",
    "Run a linear regression on the data.\n",
    "First, fit the model you created to the training set.\n",
    "Then, create a prediction for y on the test set.\n",
    "Create a plot that shows the regression line on the test set.\n",
    "Write your own interpretation of how well the line appears to fit the data in a markdown cell.\n",
    "Check the model performance statistics—MSE and R2.\n",
    "Compare the predicted y values with the actual y values in a dataframe.\n",
    "Include your thoughts on how well the model performed on the test set in a markdown cell.\n",
    "Include any reflections you have on the impact of possible data bias.\n",
    "Save your notebook and submit it for your tutor to review"
   ]
  },
  {
   "cell_type": "code",
   "execution_count": 1,
   "id": "84090b6a",
   "metadata": {},
   "outputs": [],
   "source": [
    "import pandas as pd\n",
    "import numpy as np\n",
    "import seaborn as sns\n",
    "import matplotlib\n",
    "import matplotlib.pyplot as plt\n",
    "import os\n",
    "import sklearn\n",
    "from sklearn.model_selection import train_test_split \n",
    "from sklearn.linear_model import LinearRegression\n",
    "from sklearn.metrics import mean_squared_error, r2_score"
   ]
  },
  {
   "cell_type": "code",
   "execution_count": 2,
   "id": "9f4846f3",
   "metadata": {},
   "outputs": [],
   "source": [
    "# This option ensures that the graphs you create are displayed within the notebook without the need to \"call\" them specifically.\n",
    "\n",
    "%matplotlib inline"
   ]
  },
  {
   "cell_type": "code",
   "execution_count": 15,
   "id": "e8dd7f5f",
   "metadata": {},
   "outputs": [],
   "source": [
    "df = pd.read_csv(r'C:\\Users\\admin\\OneDrive - Aero Operating LLC\\Documents\\Career Foundry\\Uber Lyft CSV.csv', index_col = False)"
   ]
  },
  {
   "cell_type": "code",
   "execution_count": 16,
   "id": "f725e1f3",
   "metadata": {},
   "outputs": [
    {
     "data": {
      "text/plain": [
       "Index(['hour', 'day', 'month', 'datetime', 'pickup', 'destination', 'cab_type',\n",
       "       'name', 'price', 'distance', 'surge_multiplier', 'latitude',\n",
       "       'longitude', 'temperature', 'weather', 'humidity', 'windSpeed'],\n",
       "      dtype='object')"
      ]
     },
     "execution_count": 16,
     "metadata": {},
     "output_type": "execute_result"
    }
   ],
   "source": [
    "df.columns"
   ]
  },
  {
   "cell_type": "code",
   "execution_count": 17,
   "id": "c792b01a",
   "metadata": {},
   "outputs": [
    {
     "data": {
      "text/html": [
       "<div>\n",
       "<style scoped>\n",
       "    .dataframe tbody tr th:only-of-type {\n",
       "        vertical-align: middle;\n",
       "    }\n",
       "\n",
       "    .dataframe tbody tr th {\n",
       "        vertical-align: top;\n",
       "    }\n",
       "\n",
       "    .dataframe thead th {\n",
       "        text-align: right;\n",
       "    }\n",
       "</style>\n",
       "<table border=\"1\" class=\"dataframe\">\n",
       "  <thead>\n",
       "    <tr style=\"text-align: right;\">\n",
       "      <th></th>\n",
       "      <th>hour</th>\n",
       "      <th>day</th>\n",
       "      <th>month</th>\n",
       "      <th>datetime</th>\n",
       "      <th>pickup</th>\n",
       "      <th>destination</th>\n",
       "      <th>cab_type</th>\n",
       "      <th>name</th>\n",
       "      <th>price</th>\n",
       "      <th>distance</th>\n",
       "      <th>surge_multiplier</th>\n",
       "      <th>latitude</th>\n",
       "      <th>longitude</th>\n",
       "      <th>temperature</th>\n",
       "      <th>weather</th>\n",
       "      <th>humidity</th>\n",
       "      <th>windSpeed</th>\n",
       "    </tr>\n",
       "  </thead>\n",
       "  <tbody>\n",
       "    <tr>\n",
       "      <th>0</th>\n",
       "      <td>9</td>\n",
       "      <td>16</td>\n",
       "      <td>12</td>\n",
       "      <td>12/16/2018 9:30</td>\n",
       "      <td>Haymarket Square</td>\n",
       "      <td>North Station</td>\n",
       "      <td>Lyft</td>\n",
       "      <td>Shared</td>\n",
       "      <td>5.0</td>\n",
       "      <td>0.44</td>\n",
       "      <td>1.0</td>\n",
       "      <td>42.2148</td>\n",
       "      <td>-71.0330</td>\n",
       "      <td>42.34</td>\n",
       "      <td>Mostly Cloudy</td>\n",
       "      <td>0.68</td>\n",
       "      <td>8.66</td>\n",
       "    </tr>\n",
       "    <tr>\n",
       "      <th>1</th>\n",
       "      <td>2</td>\n",
       "      <td>27</td>\n",
       "      <td>11</td>\n",
       "      <td>11/27/2018 2:00</td>\n",
       "      <td>Haymarket Square</td>\n",
       "      <td>North Station</td>\n",
       "      <td>Lyft</td>\n",
       "      <td>Lux</td>\n",
       "      <td>11.0</td>\n",
       "      <td>0.44</td>\n",
       "      <td>1.0</td>\n",
       "      <td>42.2148</td>\n",
       "      <td>-71.0330</td>\n",
       "      <td>43.58</td>\n",
       "      <td>Rain</td>\n",
       "      <td>0.94</td>\n",
       "      <td>11.98</td>\n",
       "    </tr>\n",
       "    <tr>\n",
       "      <th>2</th>\n",
       "      <td>1</td>\n",
       "      <td>28</td>\n",
       "      <td>11</td>\n",
       "      <td>11/28/2018 1:00</td>\n",
       "      <td>Haymarket Square</td>\n",
       "      <td>North Station</td>\n",
       "      <td>Lyft</td>\n",
       "      <td>Lyft</td>\n",
       "      <td>7.0</td>\n",
       "      <td>0.44</td>\n",
       "      <td>1.0</td>\n",
       "      <td>42.2148</td>\n",
       "      <td>-71.0330</td>\n",
       "      <td>38.33</td>\n",
       "      <td>Clear</td>\n",
       "      <td>0.75</td>\n",
       "      <td>7.33</td>\n",
       "    </tr>\n",
       "    <tr>\n",
       "      <th>3</th>\n",
       "      <td>4</td>\n",
       "      <td>30</td>\n",
       "      <td>11</td>\n",
       "      <td>11/30/2018 4:53</td>\n",
       "      <td>Haymarket Square</td>\n",
       "      <td>North Station</td>\n",
       "      <td>Lyft</td>\n",
       "      <td>Lux Black XL</td>\n",
       "      <td>26.0</td>\n",
       "      <td>0.44</td>\n",
       "      <td>1.0</td>\n",
       "      <td>42.2148</td>\n",
       "      <td>-71.0330</td>\n",
       "      <td>34.38</td>\n",
       "      <td>Clear</td>\n",
       "      <td>0.73</td>\n",
       "      <td>5.28</td>\n",
       "    </tr>\n",
       "    <tr>\n",
       "      <th>4</th>\n",
       "      <td>3</td>\n",
       "      <td>29</td>\n",
       "      <td>11</td>\n",
       "      <td>11/29/2018 3:49</td>\n",
       "      <td>Haymarket Square</td>\n",
       "      <td>North Station</td>\n",
       "      <td>Lyft</td>\n",
       "      <td>Lyft XL</td>\n",
       "      <td>9.0</td>\n",
       "      <td>0.44</td>\n",
       "      <td>1.0</td>\n",
       "      <td>42.2148</td>\n",
       "      <td>-71.0330</td>\n",
       "      <td>37.44</td>\n",
       "      <td>Partly Cloudy</td>\n",
       "      <td>0.70</td>\n",
       "      <td>9.14</td>\n",
       "    </tr>\n",
       "    <tr>\n",
       "      <th>5</th>\n",
       "      <td>18</td>\n",
       "      <td>17</td>\n",
       "      <td>12</td>\n",
       "      <td>12/17/2018 18:25</td>\n",
       "      <td>Haymarket Square</td>\n",
       "      <td>North Station</td>\n",
       "      <td>Lyft</td>\n",
       "      <td>Lux Black</td>\n",
       "      <td>16.5</td>\n",
       "      <td>0.44</td>\n",
       "      <td>1.0</td>\n",
       "      <td>42.2148</td>\n",
       "      <td>-71.0330</td>\n",
       "      <td>38.75</td>\n",
       "      <td>Overcast</td>\n",
       "      <td>0.84</td>\n",
       "      <td>7.19</td>\n",
       "    </tr>\n",
       "    <tr>\n",
       "      <th>6</th>\n",
       "      <td>5</td>\n",
       "      <td>26</td>\n",
       "      <td>11</td>\n",
       "      <td>11/26/2018 5:03</td>\n",
       "      <td>Back Bay</td>\n",
       "      <td>Northeastern University</td>\n",
       "      <td>Lyft</td>\n",
       "      <td>Lyft XL</td>\n",
       "      <td>10.5</td>\n",
       "      <td>1.08</td>\n",
       "      <td>1.0</td>\n",
       "      <td>42.3503</td>\n",
       "      <td>-71.0810</td>\n",
       "      <td>41.99</td>\n",
       "      <td>Overcast</td>\n",
       "      <td>0.91</td>\n",
       "      <td>0.53</td>\n",
       "    </tr>\n",
       "    <tr>\n",
       "      <th>7</th>\n",
       "      <td>19</td>\n",
       "      <td>2</td>\n",
       "      <td>12</td>\n",
       "      <td>12/2/2018 19:53</td>\n",
       "      <td>Back Bay</td>\n",
       "      <td>Northeastern University</td>\n",
       "      <td>Lyft</td>\n",
       "      <td>Lux Black</td>\n",
       "      <td>16.5</td>\n",
       "      <td>1.08</td>\n",
       "      <td>1.0</td>\n",
       "      <td>42.3503</td>\n",
       "      <td>-71.0810</td>\n",
       "      <td>49.88</td>\n",
       "      <td>Light Rain</td>\n",
       "      <td>0.93</td>\n",
       "      <td>3.38</td>\n",
       "    </tr>\n",
       "    <tr>\n",
       "      <th>8</th>\n",
       "      <td>6</td>\n",
       "      <td>3</td>\n",
       "      <td>12</td>\n",
       "      <td>12/3/2018 6:28</td>\n",
       "      <td>Back Bay</td>\n",
       "      <td>Northeastern University</td>\n",
       "      <td>Lyft</td>\n",
       "      <td>Shared</td>\n",
       "      <td>3.0</td>\n",
       "      <td>1.08</td>\n",
       "      <td>1.0</td>\n",
       "      <td>42.3503</td>\n",
       "      <td>-71.0810</td>\n",
       "      <td>45.58</td>\n",
       "      <td>Foggy</td>\n",
       "      <td>0.96</td>\n",
       "      <td>1.25</td>\n",
       "    </tr>\n",
       "    <tr>\n",
       "      <th>9</th>\n",
       "      <td>10</td>\n",
       "      <td>27</td>\n",
       "      <td>11</td>\n",
       "      <td>11/27/2018 10:45</td>\n",
       "      <td>Back Bay</td>\n",
       "      <td>Northeastern University</td>\n",
       "      <td>Lyft</td>\n",
       "      <td>Lux Black XL</td>\n",
       "      <td>27.5</td>\n",
       "      <td>1.08</td>\n",
       "      <td>1.0</td>\n",
       "      <td>42.3503</td>\n",
       "      <td>-71.0810</td>\n",
       "      <td>45.45</td>\n",
       "      <td>Light Rain</td>\n",
       "      <td>0.93</td>\n",
       "      <td>6.87</td>\n",
       "    </tr>\n",
       "    <tr>\n",
       "      <th>10</th>\n",
       "      <td>16</td>\n",
       "      <td>30</td>\n",
       "      <td>11</td>\n",
       "      <td>11/30/2018 16:13</td>\n",
       "      <td>Back Bay</td>\n",
       "      <td>Northeastern University</td>\n",
       "      <td>Lyft</td>\n",
       "      <td>Lux</td>\n",
       "      <td>13.5</td>\n",
       "      <td>1.08</td>\n",
       "      <td>1.0</td>\n",
       "      <td>42.3503</td>\n",
       "      <td>-71.0810</td>\n",
       "      <td>40.13</td>\n",
       "      <td>Clear</td>\n",
       "      <td>0.62</td>\n",
       "      <td>3.46</td>\n",
       "    </tr>\n",
       "    <tr>\n",
       "      <th>11</th>\n",
       "      <td>19</td>\n",
       "      <td>28</td>\n",
       "      <td>11</td>\n",
       "      <td>11/28/2018 19:23</td>\n",
       "      <td>Back Bay</td>\n",
       "      <td>Northeastern University</td>\n",
       "      <td>Lyft</td>\n",
       "      <td>Lyft</td>\n",
       "      <td>7.0</td>\n",
       "      <td>1.08</td>\n",
       "      <td>1.0</td>\n",
       "      <td>42.3503</td>\n",
       "      <td>-71.0810</td>\n",
       "      <td>41.47</td>\n",
       "      <td>Overcast</td>\n",
       "      <td>0.63</td>\n",
       "      <td>9.54</td>\n",
       "    </tr>\n",
       "    <tr>\n",
       "      <th>12</th>\n",
       "      <td>22</td>\n",
       "      <td>30</td>\n",
       "      <td>11</td>\n",
       "      <td>11/30/2018 22:13</td>\n",
       "      <td>North End</td>\n",
       "      <td>West End</td>\n",
       "      <td>Uber</td>\n",
       "      <td>UberXL</td>\n",
       "      <td>12.0</td>\n",
       "      <td>1.11</td>\n",
       "      <td>1.0</td>\n",
       "      <td>42.3647</td>\n",
       "      <td>-71.0542</td>\n",
       "      <td>40.13</td>\n",
       "      <td>Overcast</td>\n",
       "      <td>0.60</td>\n",
       "      <td>3.38</td>\n",
       "    </tr>\n",
       "    <tr>\n",
       "      <th>13</th>\n",
       "      <td>10</td>\n",
       "      <td>13</td>\n",
       "      <td>12</td>\n",
       "      <td>12/13/2018 10:50</td>\n",
       "      <td>North End</td>\n",
       "      <td>West End</td>\n",
       "      <td>Uber</td>\n",
       "      <td>Black</td>\n",
       "      <td>16.0</td>\n",
       "      <td>1.11</td>\n",
       "      <td>1.0</td>\n",
       "      <td>42.3647</td>\n",
       "      <td>-71.0542</td>\n",
       "      <td>20.38</td>\n",
       "      <td>Clear</td>\n",
       "      <td>0.66</td>\n",
       "      <td>2.94</td>\n",
       "    </tr>\n",
       "    <tr>\n",
       "      <th>14</th>\n",
       "      <td>19</td>\n",
       "      <td>13</td>\n",
       "      <td>12</td>\n",
       "      <td>12/13/2018 19:15</td>\n",
       "      <td>North End</td>\n",
       "      <td>West End</td>\n",
       "      <td>Uber</td>\n",
       "      <td>UberX</td>\n",
       "      <td>7.5</td>\n",
       "      <td>1.11</td>\n",
       "      <td>1.0</td>\n",
       "      <td>42.3647</td>\n",
       "      <td>-71.0542</td>\n",
       "      <td>32.85</td>\n",
       "      <td>Mostly Cloudy</td>\n",
       "      <td>0.56</td>\n",
       "      <td>2.65</td>\n",
       "    </tr>\n",
       "    <tr>\n",
       "      <th>15</th>\n",
       "      <td>23</td>\n",
       "      <td>16</td>\n",
       "      <td>12</td>\n",
       "      <td>12/16/2018 23:55</td>\n",
       "      <td>North End</td>\n",
       "      <td>West End</td>\n",
       "      <td>Uber</td>\n",
       "      <td>WAV</td>\n",
       "      <td>7.5</td>\n",
       "      <td>1.11</td>\n",
       "      <td>1.0</td>\n",
       "      <td>42.3647</td>\n",
       "      <td>-71.0542</td>\n",
       "      <td>41.29</td>\n",
       "      <td>Light Rain</td>\n",
       "      <td>0.86</td>\n",
       "      <td>8.30</td>\n",
       "    </tr>\n",
       "    <tr>\n",
       "      <th>16</th>\n",
       "      <td>0</td>\n",
       "      <td>14</td>\n",
       "      <td>12</td>\n",
       "      <td>12/14/2018 0:40</td>\n",
       "      <td>North End</td>\n",
       "      <td>West End</td>\n",
       "      <td>Uber</td>\n",
       "      <td>Black SUV</td>\n",
       "      <td>26.0</td>\n",
       "      <td>1.11</td>\n",
       "      <td>1.0</td>\n",
       "      <td>42.3647</td>\n",
       "      <td>-71.0542</td>\n",
       "      <td>31.25</td>\n",
       "      <td>Overcast</td>\n",
       "      <td>0.64</td>\n",
       "      <td>2.62</td>\n",
       "    </tr>\n",
       "    <tr>\n",
       "      <th>17</th>\n",
       "      <td>19</td>\n",
       "      <td>29</td>\n",
       "      <td>11</td>\n",
       "      <td>11/29/2018 19:18</td>\n",
       "      <td>North End</td>\n",
       "      <td>West End</td>\n",
       "      <td>Uber</td>\n",
       "      <td>UberPool</td>\n",
       "      <td>5.5</td>\n",
       "      <td>1.11</td>\n",
       "      <td>1.0</td>\n",
       "      <td>42.3647</td>\n",
       "      <td>-71.0542</td>\n",
       "      <td>43.49</td>\n",
       "      <td>Mostly Cloudy</td>\n",
       "      <td>0.52</td>\n",
       "      <td>12.13</td>\n",
       "    </tr>\n",
       "    <tr>\n",
       "      <th>18</th>\n",
       "      <td>6</td>\n",
       "      <td>16</td>\n",
       "      <td>12</td>\n",
       "      <td>12/16/2018 6:15</td>\n",
       "      <td>North Station</td>\n",
       "      <td>Haymarket Square</td>\n",
       "      <td>Lyft</td>\n",
       "      <td>Lyft XL</td>\n",
       "      <td>11.0</td>\n",
       "      <td>0.72</td>\n",
       "      <td>1.0</td>\n",
       "      <td>42.3661</td>\n",
       "      <td>-71.0631</td>\n",
       "      <td>40.36</td>\n",
       "      <td>Clear</td>\n",
       "      <td>0.69</td>\n",
       "      <td>7.08</td>\n",
       "    </tr>\n",
       "    <tr>\n",
       "      <th>19</th>\n",
       "      <td>19</td>\n",
       "      <td>27</td>\n",
       "      <td>11</td>\n",
       "      <td>11/27/2018 19:18</td>\n",
       "      <td>North Station</td>\n",
       "      <td>Haymarket Square</td>\n",
       "      <td>Lyft</td>\n",
       "      <td>Lux Black</td>\n",
       "      <td>16.5</td>\n",
       "      <td>0.72</td>\n",
       "      <td>1.0</td>\n",
       "      <td>42.3661</td>\n",
       "      <td>-71.0631</td>\n",
       "      <td>42.95</td>\n",
       "      <td>Mostly Cloudy</td>\n",
       "      <td>0.72</td>\n",
       "      <td>9.42</td>\n",
       "    </tr>\n",
       "  </tbody>\n",
       "</table>\n",
       "</div>"
      ],
      "text/plain": [
       "    hour  day  month          datetime            pickup  \\\n",
       "0      9   16     12   12/16/2018 9:30  Haymarket Square   \n",
       "1      2   27     11   11/27/2018 2:00  Haymarket Square   \n",
       "2      1   28     11   11/28/2018 1:00  Haymarket Square   \n",
       "3      4   30     11   11/30/2018 4:53  Haymarket Square   \n",
       "4      3   29     11   11/29/2018 3:49  Haymarket Square   \n",
       "5     18   17     12  12/17/2018 18:25  Haymarket Square   \n",
       "6      5   26     11   11/26/2018 5:03          Back Bay   \n",
       "7     19    2     12   12/2/2018 19:53          Back Bay   \n",
       "8      6    3     12    12/3/2018 6:28          Back Bay   \n",
       "9     10   27     11  11/27/2018 10:45          Back Bay   \n",
       "10    16   30     11  11/30/2018 16:13          Back Bay   \n",
       "11    19   28     11  11/28/2018 19:23          Back Bay   \n",
       "12    22   30     11  11/30/2018 22:13         North End   \n",
       "13    10   13     12  12/13/2018 10:50         North End   \n",
       "14    19   13     12  12/13/2018 19:15         North End   \n",
       "15    23   16     12  12/16/2018 23:55         North End   \n",
       "16     0   14     12   12/14/2018 0:40         North End   \n",
       "17    19   29     11  11/29/2018 19:18         North End   \n",
       "18     6   16     12   12/16/2018 6:15     North Station   \n",
       "19    19   27     11  11/27/2018 19:18     North Station   \n",
       "\n",
       "                destination cab_type          name  price  distance  \\\n",
       "0             North Station     Lyft        Shared    5.0      0.44   \n",
       "1             North Station     Lyft           Lux   11.0      0.44   \n",
       "2             North Station     Lyft          Lyft    7.0      0.44   \n",
       "3             North Station     Lyft  Lux Black XL   26.0      0.44   \n",
       "4             North Station     Lyft       Lyft XL    9.0      0.44   \n",
       "5             North Station     Lyft     Lux Black   16.5      0.44   \n",
       "6   Northeastern University     Lyft       Lyft XL   10.5      1.08   \n",
       "7   Northeastern University     Lyft     Lux Black   16.5      1.08   \n",
       "8   Northeastern University     Lyft        Shared    3.0      1.08   \n",
       "9   Northeastern University     Lyft  Lux Black XL   27.5      1.08   \n",
       "10  Northeastern University     Lyft           Lux   13.5      1.08   \n",
       "11  Northeastern University     Lyft          Lyft    7.0      1.08   \n",
       "12                 West End     Uber        UberXL   12.0      1.11   \n",
       "13                 West End     Uber         Black   16.0      1.11   \n",
       "14                 West End     Uber         UberX    7.5      1.11   \n",
       "15                 West End     Uber           WAV    7.5      1.11   \n",
       "16                 West End     Uber     Black SUV   26.0      1.11   \n",
       "17                 West End     Uber      UberPool    5.5      1.11   \n",
       "18         Haymarket Square     Lyft       Lyft XL   11.0      0.72   \n",
       "19         Haymarket Square     Lyft     Lux Black   16.5      0.72   \n",
       "\n",
       "    surge_multiplier  latitude  longitude  temperature          weather  \\\n",
       "0                1.0   42.2148   -71.0330        42.34   Mostly Cloudy    \n",
       "1                1.0   42.2148   -71.0330        43.58            Rain    \n",
       "2                1.0   42.2148   -71.0330        38.33           Clear    \n",
       "3                1.0   42.2148   -71.0330        34.38           Clear    \n",
       "4                1.0   42.2148   -71.0330        37.44   Partly Cloudy    \n",
       "5                1.0   42.2148   -71.0330        38.75        Overcast    \n",
       "6                1.0   42.3503   -71.0810        41.99        Overcast    \n",
       "7                1.0   42.3503   -71.0810        49.88      Light Rain    \n",
       "8                1.0   42.3503   -71.0810        45.58           Foggy    \n",
       "9                1.0   42.3503   -71.0810        45.45      Light Rain    \n",
       "10               1.0   42.3503   -71.0810        40.13           Clear    \n",
       "11               1.0   42.3503   -71.0810        41.47        Overcast    \n",
       "12               1.0   42.3647   -71.0542        40.13        Overcast    \n",
       "13               1.0   42.3647   -71.0542        20.38           Clear    \n",
       "14               1.0   42.3647   -71.0542        32.85   Mostly Cloudy    \n",
       "15               1.0   42.3647   -71.0542        41.29      Light Rain    \n",
       "16               1.0   42.3647   -71.0542        31.25        Overcast    \n",
       "17               1.0   42.3647   -71.0542        43.49   Mostly Cloudy    \n",
       "18               1.0   42.3661   -71.0631        40.36           Clear    \n",
       "19               1.0   42.3661   -71.0631        42.95   Mostly Cloudy    \n",
       "\n",
       "    humidity  windSpeed  \n",
       "0       0.68       8.66  \n",
       "1       0.94      11.98  \n",
       "2       0.75       7.33  \n",
       "3       0.73       5.28  \n",
       "4       0.70       9.14  \n",
       "5       0.84       7.19  \n",
       "6       0.91       0.53  \n",
       "7       0.93       3.38  \n",
       "8       0.96       1.25  \n",
       "9       0.93       6.87  \n",
       "10      0.62       3.46  \n",
       "11      0.63       9.54  \n",
       "12      0.60       3.38  \n",
       "13      0.66       2.94  \n",
       "14      0.56       2.65  \n",
       "15      0.86       8.30  \n",
       "16      0.64       2.62  \n",
       "17      0.52      12.13  \n",
       "18      0.69       7.08  \n",
       "19      0.72       9.42  "
      ]
     },
     "execution_count": 17,
     "metadata": {},
     "output_type": "execute_result"
    }
   ],
   "source": [
    "df.head(20)"
   ]
  },
  {
   "cell_type": "code",
   "execution_count": 18,
   "id": "9cf42782",
   "metadata": {},
   "outputs": [
    {
     "data": {
      "text/plain": [
       "(60392, 17)"
      ]
     },
     "execution_count": 18,
     "metadata": {},
     "output_type": "execute_result"
    }
   ],
   "source": [
    "df.shape"
   ]
  },
  {
   "cell_type": "code",
   "execution_count": 19,
   "id": "14cfb7ee",
   "metadata": {},
   "outputs": [
    {
     "data": {
      "text/plain": [
       "hour                0\n",
       "day                 0\n",
       "month               0\n",
       "datetime            0\n",
       "pickup              0\n",
       "destination         0\n",
       "cab_type            0\n",
       "name                0\n",
       "price               0\n",
       "distance            0\n",
       "surge_multiplier    0\n",
       "latitude            0\n",
       "longitude           0\n",
       "temperature         0\n",
       "weather             0\n",
       "humidity            0\n",
       "windSpeed           0\n",
       "dtype: int64"
      ]
     },
     "execution_count": 19,
     "metadata": {},
     "output_type": "execute_result"
    }
   ],
   "source": [
    "# Check for missing values\n",
    "\n",
    "df.isnull().sum()\n",
    "\n",
    "# No missing values to handle"
   ]
  },
  {
   "cell_type": "code",
   "execution_count": 20,
   "id": "d7b9677d",
   "metadata": {},
   "outputs": [],
   "source": [
    "dups = df.duplicated()"
   ]
  },
  {
   "cell_type": "code",
   "execution_count": 21,
   "id": "5aa755db",
   "metadata": {},
   "outputs": [
    {
     "data": {
      "text/plain": [
       "(60392,)"
      ]
     },
     "execution_count": 21,
     "metadata": {},
     "output_type": "execute_result"
    }
   ],
   "source": [
    "dups.shape # No dups"
   ]
  },
  {
   "cell_type": "code",
   "execution_count": 11,
   "id": "e8415403",
   "metadata": {},
   "outputs": [
    {
     "data": {
      "text/plain": [
       "<AxesSubplot:xlabel='distance', ylabel='Density'>"
      ]
     },
     "execution_count": 11,
     "metadata": {},
     "output_type": "execute_result"
    },
    {
     "data": {
      "image/png": "[encoded data removed]",
      "text/plain": [
       "<Figure size 432x288 with 1 Axes>"
      ]
     },
     "metadata": {
      "needs_background": "light"
     },
     "output_type": "display_data"
    }
   ],
   "source": [
    "sns.distplot(df['distance'], bins=25) # Shows extreme values\n",
    "\n",
    "# Some of the outliers in the high values may need to be removed, but let's try without doing so first."
   ]
  },
  {
   "cell_type": "code",
   "execution_count": 12,
   "id": "7a636e6e",
   "metadata": {},
   "outputs": [
    {
     "data": {
      "text/plain": [
       "2.1868020598756157"
      ]
     },
     "execution_count": 12,
     "metadata": {},
     "output_type": "execute_result"
    }
   ],
   "source": [
    "df['distance'].mean() # Check the mean"
   ]
  },
  {
   "cell_type": "code",
   "execution_count": 13,
   "id": "4df39439",
   "metadata": {},
   "outputs": [
    {
     "data": {
      "text/plain": [
       "2.15"
      ]
     },
     "execution_count": 13,
     "metadata": {},
     "output_type": "execute_result"
    }
   ],
   "source": [
    "df['distance'].median() # Check the median"
   ]
  },
  {
   "cell_type": "code",
   "execution_count": 14,
   "id": "8fb605e9",
   "metadata": {},
   "outputs": [
    {
     "data": {
      "text/plain": [
       "7.46"
      ]
     },
     "execution_count": 14,
     "metadata": {},
     "output_type": "execute_result"
    }
   ],
   "source": [
    "df['distance'].max() # Check the max"
   ]
  },
  {
   "cell_type": "code",
   "execution_count": 22,
   "id": "2593bbf1",
   "metadata": {},
   "outputs": [
    {
     "name": "stderr",
     "output_type": "stream",
     "text": [
      "C:\\Users\\admin\\anaconda3\\lib\\site-packages\\seaborn\\distributions.py:2619: FutureWarning: `distplot` is a deprecated function and will be removed in a future version. Please adapt your code to use either `displot` (a figure-level function with similar flexibility) or `histplot` (an axes-level function for histograms).\n",
      "  warnings.warn(msg, FutureWarning)\n"
     ]
    },
    {
     "data": {
      "text/plain": [
       "<AxesSubplot:xlabel='price', ylabel='Density'>"
      ]
     },
     "execution_count": 22,
     "metadata": {},
     "output_type": "execute_result"
    },
    {
     "data": {
      "image/png": "[encoded data removed]",
      "text/plain": [
       "<Figure size 432x288 with 1 Axes>"
      ]
     },
     "metadata": {
      "needs_background": "light"
     },
     "output_type": "display_data"
    }
   ],
   "source": [
    "sns.distplot(df['price'], bins=25) # Shows extreme values\n",
    "\n",
    "# Some of the outliers in the high values may need to be removed, but let's try without doing so first."
   ]
  },
  {
   "cell_type": "code",
   "execution_count": 23,
   "id": "3f783cdf",
   "metadata": {},
   "outputs": [
    {
     "data": {
      "text/plain": [
       "16.558310703404423"
      ]
     },
     "execution_count": 23,
     "metadata": {},
     "output_type": "execute_result"
    }
   ],
   "source": [
    "df['price'].mean() # Check the mean"
   ]
  },
  {
   "cell_type": "code",
   "execution_count": 24,
   "id": "61e7dc2f",
   "metadata": {},
   "outputs": [
    {
     "data": {
      "text/plain": [
       "13.5"
      ]
     },
     "execution_count": 24,
     "metadata": {},
     "output_type": "execute_result"
    }
   ],
   "source": [
    "df['price'].median() # Check the median"
   ]
  },
  {
   "cell_type": "code",
   "execution_count": 25,
   "id": "67f28a42",
   "metadata": {},
   "outputs": [
    {
     "data": {
      "text/plain": [
       "92.0"
      ]
     },
     "execution_count": 25,
     "metadata": {},
     "output_type": "execute_result"
    }
   ],
   "source": [
    "df['price'].max() # Check the max"
   ]
  },
  {
   "cell_type": "code",
   "execution_count": 26,
   "id": "22a36cb7",
   "metadata": {},
   "outputs": [
    {
     "data": {
      "image/png": "[encoded data removed]",
      "text/plain": [
       "<Figure size 432x288 with 1 Axes>"
      ]
     },
     "metadata": {
      "needs_background": "light"
     },
     "output_type": "display_data"
    }
   ],
   "source": [
    "# Create a scatterplot using matplotlib for another look at how the chosen variables plot against each other.\n",
    "\n",
    "df.plot(x = 'distance', y='price',style='o') # The style option creates a scatterplot; without it, we only have lines.\n",
    "plt.title('distance vs price')  \n",
    "plt.xlabel('distance')  \n",
    "plt.ylabel('price')  \n",
    "plt.show()"
   ]
  },
  {
   "cell_type": "code",
   "execution_count": 27,
   "id": "6850057c",
   "metadata": {},
   "outputs": [],
   "source": [
    "# Reshape the variables into NumPy arrays and put them into separate objects.\n",
    "\n",
    "X = df['distance'].values.reshape(-1,1)\n",
    "y = df['price'].values.reshape(-1,1)"
   ]
  },
  {
   "cell_type": "code",
   "execution_count": 28,
   "id": "e1052504",
   "metadata": {},
   "outputs": [
    {
     "data": {
      "text/plain": [
       "array([[0.44],\n",
       "       [0.44],\n",
       "       [0.44],\n",
       "       ...,\n",
       "       [0.94],\n",
       "       [0.94],\n",
       "       [0.94]])"
      ]
     },
     "execution_count": 28,
     "metadata": {},
     "output_type": "execute_result"
    }
   ],
   "source": [
    "X"
   ]
  },
  {
   "cell_type": "code",
   "execution_count": 29,
   "id": "e7886c95",
   "metadata": {},
   "outputs": [
    {
     "data": {
      "text/plain": [
       "array([[ 5. ],\n",
       "       [11. ],\n",
       "       [ 7. ],\n",
       "       ...,\n",
       "       [ 7. ],\n",
       "       [ 7. ],\n",
       "       [ 5.5]])"
      ]
     },
     "execution_count": 29,
     "metadata": {},
     "output_type": "execute_result"
    }
   ],
   "source": [
    "y"
   ]
  },
  {
   "cell_type": "code",
   "execution_count": 30,
   "id": "382c2b5e",
   "metadata": {},
   "outputs": [],
   "source": [
    "# Split data into a training set and a test set.\n",
    "\n",
    "X_train, X_test, y_train, y_test = train_test_split(X, y, test_size=0.3, random_state=0)"
   ]
  },
  {
   "cell_type": "code",
   "execution_count": 31,
   "id": "a1be4afb",
   "metadata": {},
   "outputs": [],
   "source": [
    "# Create a regression object.\n",
    "\n",
    "regression = LinearRegression()  # This is the regression object, which will be fit onto the training set."
   ]
  },
  {
   "cell_type": "code",
   "execution_count": 32,
   "id": "76d24f48",
   "metadata": {},
   "outputs": [
    {
     "data": {
      "text/plain": [
       "LinearRegression()"
      ]
     },
     "execution_count": 32,
     "metadata": {},
     "output_type": "execute_result"
    }
   ],
   "source": [
    "# Fit the regression object onto the training set.\n",
    "\n",
    "regression.fit(X_train, y_train)"
   ]
  },
  {
   "cell_type": "code",
   "execution_count": 33,
   "id": "b81a0917",
   "metadata": {},
   "outputs": [],
   "source": [
    "# Predict the values of y using X.\n",
    "\n",
    "y_predicted = regression.predict(X_test)"
   ]
  },
  {
   "cell_type": "code",
   "execution_count": 34,
   "id": "7cd3fe31",
   "metadata": {},
   "outputs": [
    {
     "data": {
      "image/png": "[encoded data removed]",
      "text/plain": [
       "<Figure size 432x288 with 1 Axes>"
      ]
     },
     "metadata": {
      "needs_background": "light"
     },
     "output_type": "display_data"
    }
   ],
   "source": [
    "# Create a plot that shows the regression line from the model on the test set.\n",
    "\n",
    "plot_test = plt\n",
    "plot_test.scatter(X_test, y_test, color='gray', s = 15)\n",
    "plot_test.plot(X_test, y_predicted, color='red', linewidth =3)\n",
    "plot_test.title('distance vs price (Test set)')\n",
    "plot_test.xlabel('distance')\n",
    "plot_test.ylabel('price')\n",
    "plot_test.show()"
   ]
  },
  {
   "cell_type": "code",
   "execution_count": 35,
   "id": "b8c1bd2b",
   "metadata": {},
   "outputs": [],
   "source": [
    "# Create objects that contain the model summary statistics.\n",
    "\n",
    "rmse = mean_squared_error(y_test, y_predicted) # This is the mean squared error\n",
    "r2 = r2_score(y_test, y_predicted) # This is the R2 score. "
   ]
  },
  {
   "cell_type": "code",
   "execution_count": 36,
   "id": "710679ba",
   "metadata": {},
   "outputs": [
    {
     "name": "stdout",
     "output_type": "stream",
     "text": [
      "Slope: [[2.78988283]]\n",
      "Mean squared error:  76.77225714130677\n",
      "R2 score:  0.12472503037220073\n"
     ]
    }
   ],
   "source": [
    "# Print the model summary statistics. This is where you evaluate the performance of the model.\n",
    "\n",
    "print('Slope:' ,regression.coef_)\n",
    "print('Mean squared error: ', rmse)\n",
    "print('R2 score: ', r2)"
   ]
  },
  {
   "cell_type": "code",
   "execution_count": 37,
   "id": "f6201cb7",
   "metadata": {},
   "outputs": [
    {
     "data": {
      "text/plain": [
       "array([[11.55417043],\n",
       "       [15.20891693],\n",
       "       [19.11475289],\n",
       "       ...,\n",
       "       [19.92381891],\n",
       "       [17.13393608],\n",
       "       [16.93864428]])"
      ]
     },
     "execution_count": 37,
     "metadata": {},
     "output_type": "execute_result"
    }
   ],
   "source": [
    "y_predicted"
   ]
  },
  {
   "cell_type": "code",
   "execution_count": 38,
   "id": "475fa01f",
   "metadata": {},
   "outputs": [
    {
     "data": {
      "text/html": [
       "<div>\n",
       "<style scoped>\n",
       "    .dataframe tbody tr th:only-of-type {\n",
       "        vertical-align: middle;\n",
       "    }\n",
       "\n",
       "    .dataframe tbody tr th {\n",
       "        vertical-align: top;\n",
       "    }\n",
       "\n",
       "    .dataframe thead th {\n",
       "        text-align: right;\n",
       "    }\n",
       "</style>\n",
       "<table border=\"1\" class=\"dataframe\">\n",
       "  <thead>\n",
       "    <tr style=\"text-align: right;\">\n",
       "      <th></th>\n",
       "      <th>Actual</th>\n",
       "      <th>Predicted</th>\n",
       "    </tr>\n",
       "  </thead>\n",
       "  <tbody>\n",
       "    <tr>\n",
       "      <th>0</th>\n",
       "      <td>9.5</td>\n",
       "      <td>11.554170</td>\n",
       "    </tr>\n",
       "    <tr>\n",
       "      <th>1</th>\n",
       "      <td>10.5</td>\n",
       "      <td>15.208917</td>\n",
       "    </tr>\n",
       "    <tr>\n",
       "      <th>2</th>\n",
       "      <td>12.5</td>\n",
       "      <td>19.114753</td>\n",
       "    </tr>\n",
       "    <tr>\n",
       "      <th>3</th>\n",
       "      <td>16.0</td>\n",
       "      <td>17.608216</td>\n",
       "    </tr>\n",
       "    <tr>\n",
       "      <th>4</th>\n",
       "      <td>16.5</td>\n",
       "      <td>19.254247</td>\n",
       "    </tr>\n",
       "    <tr>\n",
       "      <th>5</th>\n",
       "      <td>9.0</td>\n",
       "      <td>16.436465</td>\n",
       "    </tr>\n",
       "    <tr>\n",
       "      <th>6</th>\n",
       "      <td>10.5</td>\n",
       "      <td>18.975259</td>\n",
       "    </tr>\n",
       "    <tr>\n",
       "      <th>7</th>\n",
       "      <td>26.0</td>\n",
       "      <td>17.385026</td>\n",
       "    </tr>\n",
       "    <tr>\n",
       "      <th>8</th>\n",
       "      <td>30.0</td>\n",
       "      <td>14.762536</td>\n",
       "    </tr>\n",
       "    <tr>\n",
       "      <th>9</th>\n",
       "      <td>27.5</td>\n",
       "      <td>15.097322</td>\n",
       "    </tr>\n",
       "    <tr>\n",
       "      <th>10</th>\n",
       "      <td>21.5</td>\n",
       "      <td>14.957827</td>\n",
       "    </tr>\n",
       "    <tr>\n",
       "      <th>11</th>\n",
       "      <td>17.0</td>\n",
       "      <td>18.975259</td>\n",
       "    </tr>\n",
       "    <tr>\n",
       "      <th>12</th>\n",
       "      <td>19.5</td>\n",
       "      <td>15.878489</td>\n",
       "    </tr>\n",
       "    <tr>\n",
       "      <th>13</th>\n",
       "      <td>19.5</td>\n",
       "      <td>18.249889</td>\n",
       "    </tr>\n",
       "    <tr>\n",
       "      <th>14</th>\n",
       "      <td>20.5</td>\n",
       "      <td>17.887204</td>\n",
       "    </tr>\n",
       "    <tr>\n",
       "      <th>15</th>\n",
       "      <td>8.5</td>\n",
       "      <td>14.818333</td>\n",
       "    </tr>\n",
       "    <tr>\n",
       "      <th>16</th>\n",
       "      <td>9.0</td>\n",
       "      <td>14.706738</td>\n",
       "    </tr>\n",
       "    <tr>\n",
       "      <th>17</th>\n",
       "      <td>9.5</td>\n",
       "      <td>19.923819</td>\n",
       "    </tr>\n",
       "    <tr>\n",
       "      <th>18</th>\n",
       "      <td>32.5</td>\n",
       "      <td>19.337944</td>\n",
       "    </tr>\n",
       "    <tr>\n",
       "      <th>19</th>\n",
       "      <td>16.5</td>\n",
       "      <td>14.762536</td>\n",
       "    </tr>\n",
       "    <tr>\n",
       "      <th>20</th>\n",
       "      <td>28.5</td>\n",
       "      <td>15.794792</td>\n",
       "    </tr>\n",
       "    <tr>\n",
       "      <th>21</th>\n",
       "      <td>19.5</td>\n",
       "      <td>18.947360</td>\n",
       "    </tr>\n",
       "    <tr>\n",
       "      <th>22</th>\n",
       "      <td>7.0</td>\n",
       "      <td>12.056349</td>\n",
       "    </tr>\n",
       "    <tr>\n",
       "      <th>23</th>\n",
       "      <td>16.5</td>\n",
       "      <td>15.153119</td>\n",
       "    </tr>\n",
       "    <tr>\n",
       "      <th>24</th>\n",
       "      <td>19.5</td>\n",
       "      <td>19.923819</td>\n",
       "    </tr>\n",
       "    <tr>\n",
       "      <th>25</th>\n",
       "      <td>28.0</td>\n",
       "      <td>15.208917</td>\n",
       "    </tr>\n",
       "    <tr>\n",
       "      <th>26</th>\n",
       "      <td>27.5</td>\n",
       "      <td>19.923819</td>\n",
       "    </tr>\n",
       "    <tr>\n",
       "      <th>27</th>\n",
       "      <td>7.0</td>\n",
       "      <td>17.385026</td>\n",
       "    </tr>\n",
       "    <tr>\n",
       "      <th>28</th>\n",
       "      <td>16.5</td>\n",
       "      <td>19.031056</td>\n",
       "    </tr>\n",
       "    <tr>\n",
       "      <th>29</th>\n",
       "      <td>16.5</td>\n",
       "      <td>11.972653</td>\n",
       "    </tr>\n",
       "  </tbody>\n",
       "</table>\n",
       "</div>"
      ],
      "text/plain": [
       "    Actual  Predicted\n",
       "0      9.5  11.554170\n",
       "1     10.5  15.208917\n",
       "2     12.5  19.114753\n",
       "3     16.0  17.608216\n",
       "4     16.5  19.254247\n",
       "5      9.0  16.436465\n",
       "6     10.5  18.975259\n",
       "7     26.0  17.385026\n",
       "8     30.0  14.762536\n",
       "9     27.5  15.097322\n",
       "10    21.5  14.957827\n",
       "11    17.0  18.975259\n",
       "12    19.5  15.878489\n",
       "13    19.5  18.249889\n",
       "14    20.5  17.887204\n",
       "15     8.5  14.818333\n",
       "16     9.0  14.706738\n",
       "17     9.5  19.923819\n",
       "18    32.5  19.337944\n",
       "19    16.5  14.762536\n",
       "20    28.5  15.794792\n",
       "21    19.5  18.947360\n",
       "22     7.0  12.056349\n",
       "23    16.5  15.153119\n",
       "24    19.5  19.923819\n",
       "25    28.0  15.208917\n",
       "26    27.5  19.923819\n",
       "27     7.0  17.385026\n",
       "28    16.5  19.031056\n",
       "29    16.5  11.972653"
      ]
     },
     "execution_count": 38,
     "metadata": {},
     "output_type": "execute_result"
    }
   ],
   "source": [
    "# Create a dataframe comparing the actual and predicted values of y.\n",
    "\n",
    "data = pd.DataFrame({'Actual': y_test.flatten(), 'Predicted': y_predicted.flatten()})\n",
    "data.head(30)"
   ]
  },
  {
   "cell_type": "code",
   "execution_count": 39,
   "id": "3c230f51",
   "metadata": {},
   "outputs": [],
   "source": [
    "# Predict.\n",
    "\n",
    "y_predicted_train = regression.predict(X_train) # This is predicting X_train!"
   ]
  },
  {
   "cell_type": "code",
   "execution_count": 40,
   "id": "b21bda56",
   "metadata": {},
   "outputs": [],
   "source": [
    "rmse = mean_squared_error(y_train, y_predicted_train)\n",
    "r2 = r2_score(y_train, y_predicted_train)"
   ]
  },
  {
   "cell_type": "code",
   "execution_count": 41,
   "id": "03ef973e",
   "metadata": {},
   "outputs": [
    {
     "name": "stdout",
     "output_type": "stream",
     "text": [
      "Slope: [[2.78988283]]\n",
      "Mean squared error:  76.89718501188536\n",
      "R2 score:  0.11492125056539448\n"
     ]
    }
   ],
   "source": [
    "print('Slope:' ,regression.coef_)\n",
    "print('Mean squared error: ', rmse)\n",
    "print('R2 score: ', r2)"
   ]
  },
  {
   "cell_type": "code",
   "execution_count": 42,
   "id": "11f7092f",
   "metadata": {},
   "outputs": [
    {
     "data": {
      "image/png": "[encoded data removed]",
      "text/plain": [
       "<Figure size 432x288 with 1 Axes>"
      ]
     },
     "metadata": {
      "needs_background": "light"
     },
     "output_type": "display_data"
    }
   ],
   "source": [
    "# Visualizing the training set results.\n",
    "\n",
    "plot_test = plt\n",
    "plot_test.scatter(X_train, y_train, color='green', s = 15)\n",
    "plot_test.plot(X_train, y_predicted_train, color='red', linewidth =3)\n",
    "plot_test.title('distance vs price (Train set)')\n",
    "plot_test.xlabel('distance')\n",
    "plot_test.ylabel('price')\n",
    "plot_test.show()"
   ]
  },
  {
   "cell_type": "code",
   "execution_count": 43,
   "id": "d56ef9ed",
   "metadata": {},
   "outputs": [],
   "source": [
    "# Clean the extreme values from the \"Price per Unit\" variable observed during the consistency checks.\n",
    "\n",
    "df_test = df[df['price'] <=70] "
   ]
  },
  {
   "cell_type": "code",
   "execution_count": 44,
   "id": "e7c1fd5b",
   "metadata": {},
   "outputs": [
    {
     "data": {
      "image/png": "[encoded data removed]",
      "text/plain": [
       "<Figure size 432x288 with 1 Axes>"
      ]
     },
     "metadata": {
      "needs_background": "light"
     },
     "output_type": "display_data"
    }
   ],
   "source": [
    "# See how the scatterplot looks without outliers.\n",
    "\n",
    "df_test.plot(x = 'distance', y='price', style='o')  \n",
    "plt.title('distance vs price')  \n",
    "plt.xlabel('distance')  \n",
    "plt.ylabel('price')  \n",
    "plt.show()"
   ]
  },
  {
   "cell_type": "code",
   "execution_count": 45,
   "id": "04ec1de9",
   "metadata": {},
   "outputs": [],
   "source": [
    "# Reshape again.\n",
    "\n",
    "X_2 = df_test['distance'].values.reshape(-1,1)\n",
    "y_2 = df_test['price'].values.reshape(-1,1)"
   ]
  },
  {
   "cell_type": "code",
   "execution_count": 46,
   "id": "20ea7bfe",
   "metadata": {},
   "outputs": [],
   "source": [
    "X_train_2, X_test_2, y_train_2, y_test_2 = train_test_split(X_2, y_2, test_size=0.3, random_state=0)"
   ]
  },
  {
   "cell_type": "code",
   "execution_count": 47,
   "id": "f615fafe",
   "metadata": {},
   "outputs": [
    {
     "data": {
      "text/plain": [
       "LinearRegression()"
      ]
     },
     "execution_count": 47,
     "metadata": {},
     "output_type": "execute_result"
    }
   ],
   "source": [
    "# Run and fit the regression.\n",
    "\n",
    "regression = LinearRegression()  \n",
    "regression.fit(X_train_2, y_train_2)"
   ]
  },
  {
   "cell_type": "code",
   "execution_count": 48,
   "id": "9ddca032",
   "metadata": {},
   "outputs": [],
   "source": [
    "# Predict.\n",
    "\n",
    "y_predicted_2 = regression.predict(X_test_2)"
   ]
  },
  {
   "cell_type": "code",
   "execution_count": 49,
   "id": "603239ae",
   "metadata": {},
   "outputs": [],
   "source": [
    "rmse = mean_squared_error(y_test_2, y_predicted_2)\n",
    "r2 = r2_score(y_test_2, y_predicted_2)"
   ]
  },
  {
   "cell_type": "code",
   "execution_count": 50,
   "id": "031afb85",
   "metadata": {},
   "outputs": [
    {
     "name": "stdout",
     "output_type": "stream",
     "text": [
      "Slope: [[2.77417964]]\n",
      "Mean squared error:  76.32160270883462\n",
      "R2 score:  0.12239142739150533\n"
     ]
    }
   ],
   "source": [
    "print('Slope:' ,regression.coef_)\n",
    "print('Mean squared error: ', rmse)\n",
    "print('R2 score: ', r2)"
   ]
  },
  {
   "cell_type": "code",
   "execution_count": 51,
   "id": "18adf58b",
   "metadata": {},
   "outputs": [
    {
     "data": {
      "image/png": "[encoded data removed]",
      "text/plain": [
       "<Figure size 432x288 with 1 Axes>"
      ]
     },
     "metadata": {
      "needs_background": "light"
     },
     "output_type": "display_data"
    }
   ],
   "source": [
    "# Visualizing the test set results.\n",
    "plot_test = plt\n",
    "plot_test.scatter(X_test_2, y_test_2, color='gray', s = 15)\n",
    "plot_test.plot(X_test_2, y_predicted_2, color='red', linewidth =3)\n",
    "plot_test.title('distance vs price (Test set)')\n",
    "plot_test.xlabel('distance')\n",
    "plot_test.ylabel('price')\n",
    "plot_test.show()"
   ]
  },
  {
   "cell_type": "code",
   "execution_count": 52,
   "id": "97e913ff",
   "metadata": {},
   "outputs": [
    {
     "data": {
      "text/html": [
       "<div>\n",
       "<style scoped>\n",
       "    .dataframe tbody tr th:only-of-type {\n",
       "        vertical-align: middle;\n",
       "    }\n",
       "\n",
       "    .dataframe tbody tr th {\n",
       "        vertical-align: top;\n",
       "    }\n",
       "\n",
       "    .dataframe thead th {\n",
       "        text-align: right;\n",
       "    }\n",
       "</style>\n",
       "<table border=\"1\" class=\"dataframe\">\n",
       "  <thead>\n",
       "    <tr style=\"text-align: right;\">\n",
       "      <th></th>\n",
       "      <th>Actual</th>\n",
       "      <th>Predicted</th>\n",
       "    </tr>\n",
       "  </thead>\n",
       "  <tbody>\n",
       "    <tr>\n",
       "      <th>0</th>\n",
       "      <td>10.5</td>\n",
       "      <td>22.073221</td>\n",
       "    </tr>\n",
       "    <tr>\n",
       "      <th>1</th>\n",
       "      <td>13.0</td>\n",
       "      <td>19.437751</td>\n",
       "    </tr>\n",
       "    <tr>\n",
       "      <th>2</th>\n",
       "      <td>22.5</td>\n",
       "      <td>23.266119</td>\n",
       "    </tr>\n",
       "    <tr>\n",
       "      <th>3</th>\n",
       "      <td>16.5</td>\n",
       "      <td>16.025510</td>\n",
       "    </tr>\n",
       "    <tr>\n",
       "      <th>4</th>\n",
       "      <td>38.5</td>\n",
       "      <td>20.270005</td>\n",
       "    </tr>\n",
       "    <tr>\n",
       "      <th>5</th>\n",
       "      <td>13.5</td>\n",
       "      <td>22.905475</td>\n",
       "    </tr>\n",
       "    <tr>\n",
       "      <th>6</th>\n",
       "      <td>7.0</td>\n",
       "      <td>13.528748</td>\n",
       "    </tr>\n",
       "    <tr>\n",
       "      <th>7</th>\n",
       "      <td>26.0</td>\n",
       "      <td>12.502302</td>\n",
       "    </tr>\n",
       "    <tr>\n",
       "      <th>8</th>\n",
       "      <td>33.5</td>\n",
       "      <td>20.020328</td>\n",
       "    </tr>\n",
       "    <tr>\n",
       "      <th>9</th>\n",
       "      <td>16.5</td>\n",
       "      <td>16.774538</td>\n",
       "    </tr>\n",
       "    <tr>\n",
       "      <th>10</th>\n",
       "      <td>11.0</td>\n",
       "      <td>15.748092</td>\n",
       "    </tr>\n",
       "    <tr>\n",
       "      <th>11</th>\n",
       "      <td>15.0</td>\n",
       "      <td>14.222293</td>\n",
       "    </tr>\n",
       "    <tr>\n",
       "      <th>12</th>\n",
       "      <td>27.5</td>\n",
       "      <td>19.271300</td>\n",
       "    </tr>\n",
       "    <tr>\n",
       "      <th>13</th>\n",
       "      <td>3.5</td>\n",
       "      <td>13.944875</td>\n",
       "    </tr>\n",
       "    <tr>\n",
       "      <th>14</th>\n",
       "      <td>7.0</td>\n",
       "      <td>17.190665</td>\n",
       "    </tr>\n",
       "    <tr>\n",
       "      <th>15</th>\n",
       "      <td>22.5</td>\n",
       "      <td>15.304223</td>\n",
       "    </tr>\n",
       "    <tr>\n",
       "      <th>16</th>\n",
       "      <td>15.0</td>\n",
       "      <td>16.358411</td>\n",
       "    </tr>\n",
       "    <tr>\n",
       "      <th>17</th>\n",
       "      <td>9.5</td>\n",
       "      <td>19.881619</td>\n",
       "    </tr>\n",
       "    <tr>\n",
       "      <th>18</th>\n",
       "      <td>22.5</td>\n",
       "      <td>20.048070</td>\n",
       "    </tr>\n",
       "    <tr>\n",
       "      <th>19</th>\n",
       "      <td>9.0</td>\n",
       "      <td>12.335851</td>\n",
       "    </tr>\n",
       "    <tr>\n",
       "      <th>20</th>\n",
       "      <td>28.5</td>\n",
       "      <td>15.942284</td>\n",
       "    </tr>\n",
       "    <tr>\n",
       "      <th>21</th>\n",
       "      <td>34.0</td>\n",
       "      <td>19.188075</td>\n",
       "    </tr>\n",
       "    <tr>\n",
       "      <th>22</th>\n",
       "      <td>16.5</td>\n",
       "      <td>14.693904</td>\n",
       "    </tr>\n",
       "    <tr>\n",
       "      <th>23</th>\n",
       "      <td>16.5</td>\n",
       "      <td>18.993882</td>\n",
       "    </tr>\n",
       "    <tr>\n",
       "      <th>24</th>\n",
       "      <td>26.5</td>\n",
       "      <td>14.638420</td>\n",
       "    </tr>\n",
       "    <tr>\n",
       "      <th>25</th>\n",
       "      <td>7.0</td>\n",
       "      <td>18.938398</td>\n",
       "    </tr>\n",
       "    <tr>\n",
       "      <th>26</th>\n",
       "      <td>9.0</td>\n",
       "      <td>12.280367</td>\n",
       "    </tr>\n",
       "    <tr>\n",
       "      <th>27</th>\n",
       "      <td>26.0</td>\n",
       "      <td>14.305518</td>\n",
       "    </tr>\n",
       "    <tr>\n",
       "      <th>28</th>\n",
       "      <td>22.5</td>\n",
       "      <td>18.383562</td>\n",
       "    </tr>\n",
       "    <tr>\n",
       "      <th>29</th>\n",
       "      <td>27.5</td>\n",
       "      <td>23.210635</td>\n",
       "    </tr>\n",
       "  </tbody>\n",
       "</table>\n",
       "</div>"
      ],
      "text/plain": [
       "    Actual  Predicted\n",
       "0     10.5  22.073221\n",
       "1     13.0  19.437751\n",
       "2     22.5  23.266119\n",
       "3     16.5  16.025510\n",
       "4     38.5  20.270005\n",
       "5     13.5  22.905475\n",
       "6      7.0  13.528748\n",
       "7     26.0  12.502302\n",
       "8     33.5  20.020328\n",
       "9     16.5  16.774538\n",
       "10    11.0  15.748092\n",
       "11    15.0  14.222293\n",
       "12    27.5  19.271300\n",
       "13     3.5  13.944875\n",
       "14     7.0  17.190665\n",
       "15    22.5  15.304223\n",
       "16    15.0  16.358411\n",
       "17     9.5  19.881619\n",
       "18    22.5  20.048070\n",
       "19     9.0  12.335851\n",
       "20    28.5  15.942284\n",
       "21    34.0  19.188075\n",
       "22    16.5  14.693904\n",
       "23    16.5  18.993882\n",
       "24    26.5  14.638420\n",
       "25     7.0  18.938398\n",
       "26     9.0  12.280367\n",
       "27    26.0  14.305518\n",
       "28    22.5  18.383562\n",
       "29    27.5  23.210635"
      ]
     },
     "execution_count": 52,
     "metadata": {},
     "output_type": "execute_result"
    }
   ],
   "source": [
    "data = pd.DataFrame({'Actual': y_test_2.flatten(), 'Predicted': y_predicted_2.flatten()})\n",
    "data.head(30)"
   ]
  },
  {
   "cell_type": "code",
   "execution_count": 2,
   "id": "7f26938f",
   "metadata": {},
   "outputs": [],
   "source": [
    "# Hypothesis: The Uber/lyft data would suggest that there is a high correlation between distance and price."
   ]
  },
  {
   "cell_type": "code",
   "execution_count": null,
   "id": "408ebdfd",
   "metadata": {},
   "outputs": [],
   "source": [
    "# The regression models do not support this hypothesis. The slope, MSE and R2 figures do not indicate a high coorelation.\n",
    "As well, a second more detailed analysis shows a big difference between the Actual and Predicted values. \n",
    "Clearly there are other significant variables at work that are impacted price"
   ]
  },
  {
   "cell_type": "code",
   "execution_count": null,
   "id": "6fdd2b29",
   "metadata": {},
   "outputs": [],
   "source": []
  }
 ],
 "metadata": {
  "kernelspec": {
   "display_name": "Python 3 (ipykernel)",
   "language": "python",
   "name": "python3"
  },
  "language_info": {
   "codemirror_mode": {
    "name": "ipython",
    "version": 3
   },
   "file_extension": ".py",
   "mimetype": "text/x-python",
   "name": "python",
   "nbconvert_exporter": "python",
   "pygments_lexer": "ipython3",
   "version": "3.9.12"
  }
 },
 "nbformat": 4,
 "nbformat_minor": 5
}
